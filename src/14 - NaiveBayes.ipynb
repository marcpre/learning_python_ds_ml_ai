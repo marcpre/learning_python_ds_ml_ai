{
 "cells": [
  {
   "cell_type": "markdown",
   "metadata": {},
   "source": [
    "# Naive Bayes (the easy way)"
   ]
  },
  {
   "cell_type": "markdown",
   "metadata": {},
   "source": [
    "We'll cheat by using sklearn.naive_bayes to train a spam classifier! Most of the code is just loading our training data into a pandas DataFrame that we can play with:"
   ]
  },
  {
   "cell_type": "code",
   "execution_count": 8,
   "metadata": {},
   "outputs": [
    {
     "name": "stderr",
     "output_type": "stream",
     "text": [
      "/home/ubuntu/miniconda3/lib/python3.6/site-packages/pandas/core/frame.py:6211: FutureWarning: Sorting because non-concatenation axis is not aligned. A future version\n",
      "of pandas will change to not sort by default.\n",
      "\n",
      "To accept the future behavior, pass 'sort=False'.\n",
      "\n",
      "To retain the current behavior and silence the warning, pass 'sort=True'.\n",
      "\n",
      "  sort=sort)\n"
     ]
    }
   ],
   "source": [
    "import os\n",
    "import io\n",
    "import numpy\n",
    "from pandas import DataFrame\n",
    "from sklearn.feature_extraction.text import CountVectorizer\n",
    "from sklearn.naive_bayes import MultinomialNB\n",
    "\n",
    "def readFiles(path):\n",
    "    for root, dirnames, filenames in os.walk(path):\n",
    "        for filename in filenames:\n",
    "            path = os.path.join(root, filename)\n",
    "\n",
    "            inBody = False\n",
    "            lines = []\n",
    "            f = io.open(path, 'r', encoding='latin1')\n",
    "            for line in f:\n",
    "                if inBody:\n",
    "                    lines.append(line)\n",
    "                elif line == '\\n':\n",
    "                    inBody = True\n",
    "            f.close()\n",
    "            message = '\\n'.join(lines)\n",
    "            yield path, message\n",
    "\n",
    "\n",
    "def dataFrameFromDirectory(path, classification):\n",
    "    rows = []\n",
    "    index = []\n",
    "    for filename, message in readFiles(path):\n",
    "        rows.append({'message': message, 'class': classification})\n",
    "        index.append(filename)\n",
    "\n",
    "    return DataFrame(rows, index=index)\n",
    "\n",
    "data = DataFrame({'message': [], 'class': []})\n",
    "\n",
    "data = data.append(dataFrameFromDirectory('/home/ubuntu/workspace/src/emails/spam', 'spam'))\n",
    "data = data.append(dataFrameFromDirectory('/home/ubuntu/workspace/src/emails/ham', 'ham'))\n"
   ]
  },
  {
   "cell_type": "markdown",
   "metadata": {},
   "source": [
    "Let's have a look at that DataFrame:"
   ]
  },
  {
   "cell_type": "code",
   "execution_count": 9,
   "metadata": {},
   "outputs": [
    {
     "data": {
      "text/html": [
       "<div>\n",
       "<style scoped>\n",
       "    .dataframe tbody tr th:only-of-type {\n",
       "        vertical-align: middle;\n",
       "    }\n",
       "\n",
       "    .dataframe tbody tr th {\n",
       "        vertical-align: top;\n",
       "    }\n",
       "\n",
       "    .dataframe thead th {\n",
       "        text-align: right;\n",
       "    }\n",
       "</style>\n",
       "<table border=\"1\" class=\"dataframe\">\n",
       "  <thead>\n",
       "    <tr style=\"text-align: right;\">\n",
       "      <th></th>\n",
       "      <th>class</th>\n",
       "      <th>message</th>\n",
       "    </tr>\n",
       "  </thead>\n",
       "  <tbody>\n",
       "    <tr>\n",
       "      <th>/home/ubuntu/workspace/src/emails/spam/00253.83b95b05e275286eddcf557ea581e754</th>\n",
       "      <td>spam</td>\n",
       "      <td>There is NO stumbling on to it! \\n\\n\\n\\nThe gr...</td>\n",
       "    </tr>\n",
       "    <tr>\n",
       "      <th>/home/ubuntu/workspace/src/emails/spam/00333.4bb36a535cb3d738f30f985f1e10a786</th>\n",
       "      <td>spam</td>\n",
       "      <td>------000000000000000000000\\n\\nContent-Type: t...</td>\n",
       "    </tr>\n",
       "    <tr>\n",
       "      <th>/home/ubuntu/workspace/src/emails/spam/00165.45db168e8e1a78a66972b9f50c47b6dc</th>\n",
       "      <td>spam</td>\n",
       "      <td>&lt;FONT SIZE=1 COLOR=\"000000\"&gt;To be removed plea...</td>\n",
       "    </tr>\n",
       "    <tr>\n",
       "      <th>/home/ubuntu/workspace/src/emails/spam/00116.29e39a0064e2714681726ac28ff3fdef</th>\n",
       "      <td>spam</td>\n",
       "      <td>HABERDAR.COM - HABER VE MEDYA PORTALI\\n\\nArtýk...</td>\n",
       "    </tr>\n",
       "    <tr>\n",
       "      <th>/home/ubuntu/workspace/src/emails/spam/00150.f97c73fa56460a6afc6d9418ad76b5b5</th>\n",
       "      <td>spam</td>\n",
       "      <td>This is a multi-part message in MIME format.\\n...</td>\n",
       "    </tr>\n",
       "  </tbody>\n",
       "</table>\n",
       "</div>"
      ],
      "text/plain": [
       "                                                   class  \\\n",
       "/home/ubuntu/workspace/src/emails/spam/00253.83...  spam   \n",
       "/home/ubuntu/workspace/src/emails/spam/00333.4b...  spam   \n",
       "/home/ubuntu/workspace/src/emails/spam/00165.45...  spam   \n",
       "/home/ubuntu/workspace/src/emails/spam/00116.29...  spam   \n",
       "/home/ubuntu/workspace/src/emails/spam/00150.f9...  spam   \n",
       "\n",
       "                                                                                              message  \n",
       "/home/ubuntu/workspace/src/emails/spam/00253.83...  There is NO stumbling on to it! \\n\\n\\n\\nThe gr...  \n",
       "/home/ubuntu/workspace/src/emails/spam/00333.4b...  ------000000000000000000000\\n\\nContent-Type: t...  \n",
       "/home/ubuntu/workspace/src/emails/spam/00165.45...  <FONT SIZE=1 COLOR=\"000000\">To be removed plea...  \n",
       "/home/ubuntu/workspace/src/emails/spam/00116.29...  HABERDAR.COM - HABER VE MEDYA PORTALI\\n\\nArtýk...  \n",
       "/home/ubuntu/workspace/src/emails/spam/00150.f9...  This is a multi-part message in MIME format.\\n...  "
      ]
     },
     "execution_count": 9,
     "metadata": {},
     "output_type": "execute_result"
    }
   ],
   "source": [
    "data.head()"
   ]
  },
  {
   "cell_type": "markdown",
   "metadata": {},
   "source": [
    "Now we will use a CountVectorizer to split up each message into its list of words, and throw that into a MultinomialNB classifier. Call fit() and we've got a trained spam filter ready to go! It's just that easy."
   ]
  },
  {
   "cell_type": "code",
   "execution_count": 10,
   "metadata": {},
   "outputs": [
    {
     "data": {
      "text/plain": [
       "MultinomialNB(alpha=1.0, class_prior=None, fit_prior=True)"
      ]
     },
     "execution_count": 10,
     "metadata": {},
     "output_type": "execute_result"
    }
   ],
   "source": [
    "vectorizer = CountVectorizer()\n",
    "counts = vectorizer.fit_transform(data['message'].values)\n",
    "\n",
    "classifier = MultinomialNB()\n",
    "targets = data['class'].values\n",
    "classifier.fit(counts, targets)"
   ]
  },
  {
   "cell_type": "markdown",
   "metadata": {},
   "source": [
    "Let's try it out:"
   ]
  },
  {
   "cell_type": "code",
   "execution_count": 11,
   "metadata": {},
   "outputs": [
    {
     "data": {
      "text/plain": [
       "array(['spam', 'ham'], dtype='<U4')"
      ]
     },
     "execution_count": 11,
     "metadata": {},
     "output_type": "execute_result"
    }
   ],
   "source": [
    "examples = ['Free Viagra now!!!', \"Hi Bob, how about a game of golf tomorrow?\"]\n",
    "example_counts = vectorizer.transform(examples)\n",
    "predictions = classifier.predict(example_counts)\n",
    "predictions"
   ]
  },
  {
   "cell_type": "markdown",
   "metadata": {},
   "source": [
    "## Activity"
   ]
  },
  {
   "cell_type": "markdown",
   "metadata": {},
   "source": [
    "Our data set is small, so our spam classifier isn't actually very good. Try running some different test emails through it and see if you get the results you expect.\n",
    "\n",
    "If you really want to challenge yourself, try applying train/test to this spam classifier - see how well it can predict some subset of the ham and spam emails."
   ]
  },
  {
   "cell_type": "code",
   "execution_count": null,
   "metadata": {},
   "outputs": [],
   "source": []
  }
 ],
 "metadata": {
  "kernelspec": {
   "display_name": "Python 3",
   "language": "python",
   "name": "python3"
  },
  "language_info": {
   "codemirror_mode": {
    "name": "ipython",
    "version": 3
   },
   "file_extension": ".py",
   "mimetype": "text/x-python",
   "name": "python",
   "nbconvert_exporter": "python",
   "pygments_lexer": "ipython3",
   "version": "3.6.5"
  }
 },
 "nbformat": 4,
 "nbformat_minor": 1
}

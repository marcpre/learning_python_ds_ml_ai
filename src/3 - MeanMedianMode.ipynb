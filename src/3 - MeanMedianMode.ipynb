{
 "cells": [
  {
   "cell_type": "markdown",
   "metadata": {},
   "source": [
    "# Mean, Median, Mode, and introducing NumPy"
   ]
  },
  {
   "cell_type": "markdown",
   "metadata": {},
   "source": [
    "## Mean vs. Median"
   ]
  },
  {
   "cell_type": "markdown",
   "metadata": {},
   "source": [
    "Let's create some fake income data, centered around 27,000 with a normal distribution and standard deviation of 15,000, with 10,000 data points. (We'll discuss those terms more later, if you're not familiar with them.)\n",
    "\n",
    "Then, compute the mean (average) - it should be close to 27,000:"
   ]
  },
  {
   "cell_type": "code",
   "execution_count": 9,
   "metadata": {},
   "outputs": [
    {
     "data": {
      "text/plain": [
       "26788.049166701807"
      ]
     },
     "execution_count": 9,
     "metadata": {},
     "output_type": "execute_result"
    }
   ],
   "source": [
    "import numpy as np\n",
    "\n",
    "incomes = np.random.normal(27000, 15000, 10000)\n",
    "np.mean(incomes)"
   ]
  },
  {
   "cell_type": "markdown",
   "metadata": {},
   "source": [
    "We can segment the income data into 50 buckets, and plot it as a histogram:"
   ]
  },
  {
   "cell_type": "code",
   "execution_count": 10,
   "metadata": {},
   "outputs": [
    {
     "data": {
      "image/png": "[encoded data removed]",
      "text/plain": [
       "<Figure size 432x288 with 1 Axes>"
      ]
     },
     "metadata": {},
     "output_type": "display_data"
    }
   ],
   "source": [
    "%matplotlib inline\n",
    "import matplotlib.pyplot as plt\n",
    "plt.hist(incomes, 50)\n",
    "plt.show()"
   ]
  },
  {
   "cell_type": "markdown",
   "metadata": {},
   "source": [
    "Now compute the median - since we have a nice, even distribution it too should be close to 27,000:"
   ]
  },
  {
   "cell_type": "code",
   "execution_count": 17,
   "metadata": {},
   "outputs": [
    {
     "data": {
      "text/plain": [
       "26791.765033930664"
      ]
     },
     "execution_count": 17,
     "metadata": {},
     "output_type": "execute_result"
    }
   ],
   "source": [
    "np.median(incomes)"
   ]
  },
  {
   "cell_type": "markdown",
   "metadata": {},
   "source": [
    "Now we'll add Donald Trump into the mix. Darn income inequality!"
   ]
  },
  {
   "cell_type": "code",
   "execution_count": 18,
   "metadata": {},
   "outputs": [],
   "source": [
    "incomes = np.append(incomes, [1000000000])"
   ]
  },
  {
   "cell_type": "markdown",
   "metadata": {},
   "source": [
    "The median won't change much, but the mean does:"
   ]
  },
  {
   "cell_type": "code",
   "execution_count": 19,
   "metadata": {},
   "outputs": [
    {
     "data": {
      "text/plain": [
       "26794.99683673129"
      ]
     },
     "execution_count": 19,
     "metadata": {},
     "output_type": "execute_result"
    }
   ],
   "source": [
    "np.median(incomes)"
   ]
  },
  {
   "cell_type": "code",
   "execution_count": 20,
   "metadata": {},
   "outputs": [
    {
     "data": {
      "text/plain": [
       "226742.70062657652"
      ]
     },
     "execution_count": 20,
     "metadata": {},
     "output_type": "execute_result"
    }
   ],
   "source": [
    "np.mean(incomes)"
   ]
  },
  {
   "cell_type": "markdown",
   "metadata": {},
   "source": [
    "## Mode"
   ]
  },
  {
   "cell_type": "markdown",
   "metadata": {},
   "source": [
    "Next, let's generate some fake age data for 500 people:"
   ]
  },
  {
   "cell_type": "code",
   "execution_count": 25,
   "metadata": {},
   "outputs": [
    {
     "data": {
      "text/plain": [
       "array([20, 49, 37, 23, 68, 38, 72, 88, 35, 37, 22, 84, 75, 70, 19, 73, 18,\n",
       "       67, 43, 84, 24, 56, 26, 19, 31, 46, 82, 19, 46, 43, 64, 25, 60, 50,\n",
       "       24, 38, 36, 59, 82, 57, 76, 53, 38, 62, 34, 22, 32, 34, 42, 39, 21,\n",
       "       35, 84, 36, 67, 54, 43, 19, 35, 59, 31, 61, 58, 78, 53, 62, 62, 71,\n",
       "       89, 64, 20, 47, 34, 64, 20, 48, 41, 18, 32, 36, 35, 86, 24, 58, 33,\n",
       "       33, 25, 73, 69, 28, 19, 22, 66, 87, 29, 56, 29, 36, 41, 67, 61, 62,\n",
       "       22, 49, 83, 22, 42, 69, 80, 78, 52, 75, 69, 19, 71, 77, 89, 33, 73,\n",
       "       64, 71, 29, 60, 41, 19, 62, 77, 61, 22, 46, 76, 87, 26, 26, 32, 64,\n",
       "       85, 64, 29, 44, 60, 34, 41, 79, 81, 52, 22, 89, 35, 45, 88, 31, 65,\n",
       "       24, 19, 24, 44, 66, 29, 87, 68, 43, 42, 83, 18, 69, 42, 83, 88, 80,\n",
       "       59, 43, 84, 45, 31, 18, 75, 67, 63, 78, 81, 43, 30, 48, 74, 76, 18,\n",
       "       47, 26, 82, 35, 48, 31, 79, 89, 57, 39, 74, 25, 78, 65, 53, 36, 39,\n",
       "       68, 41, 46, 67, 19, 75, 35, 50, 18, 40, 88, 67, 41, 82, 46, 56, 24,\n",
       "       39, 64, 36, 51, 31, 29, 87, 74, 63, 54, 43, 24, 30, 41, 53, 78, 19,\n",
       "       26, 38, 19, 78, 58, 75, 60, 25, 86, 46, 18, 73, 61, 61, 55, 72, 22,\n",
       "       68, 46, 36, 25, 40, 60, 19, 52, 26, 20, 89, 59, 18, 41, 59, 86, 62,\n",
       "       40, 86, 53, 70, 47, 89, 42, 84, 41, 19, 88, 47, 37, 83, 33, 67, 37,\n",
       "       25, 77, 59, 32, 21, 60, 33, 19, 64, 64, 29, 60, 72, 66, 50, 37, 47,\n",
       "       63, 66, 19, 26, 31, 31, 83, 79, 44, 80, 20, 43, 67, 30, 22, 85, 23,\n",
       "       54, 22, 85, 30, 38, 23, 20, 55, 68, 26, 39, 37, 64, 37, 73, 82, 29,\n",
       "       76, 61, 49, 23, 39, 68, 73, 75, 49, 57, 30, 29, 62, 50, 87, 51, 38,\n",
       "       78, 67, 37, 27, 59, 89, 51, 49, 36, 19, 29, 27, 37, 79, 25, 72, 56,\n",
       "       22, 58, 35, 71, 81, 70, 43, 21, 46, 35, 40, 54, 45, 48, 86, 53, 25,\n",
       "       23, 21, 28, 42, 51, 43, 18, 52, 34, 27, 53, 26, 28, 65, 76, 85, 48,\n",
       "       62, 81, 75, 22, 86, 82, 22, 70, 49, 39, 23, 45, 33, 38, 54, 35, 33,\n",
       "       69, 80, 40, 37, 23, 89, 79, 59, 62, 27, 30, 73, 20, 37, 85, 31, 27,\n",
       "       66, 80, 51, 27, 42, 88, 71, 49, 73, 85, 21, 87, 55, 39, 51, 28, 87,\n",
       "       42, 85, 60, 83, 78, 23, 88, 49, 71, 69, 43, 69, 58, 81, 86, 26, 49,\n",
       "       61, 75, 51, 26, 27, 69, 61, 62, 62, 83, 72, 21, 51, 85, 60, 45, 45,\n",
       "       70, 73, 25, 87, 60, 54, 53])"
      ]
     },
     "execution_count": 25,
     "metadata": {},
     "output_type": "execute_result"
    }
   ],
   "source": [
    "ages = np.random.randint(18, high=90, size=500)\n",
    "ages"
   ]
  },
  {
   "cell_type": "code",
   "execution_count": 26,
   "metadata": {},
   "outputs": [
    {
     "data": {
      "text/plain": [
       "ModeResult(mode=array([19]), count=array([16]))"
      ]
     },
     "execution_count": 26,
     "metadata": {},
     "output_type": "execute_result"
    }
   ],
   "source": [
    "from scipy import stats\n",
    "stats.mode(ages)"
   ]
  },
  {
   "cell_type": "code",
   "execution_count": null,
   "metadata": {},
   "outputs": [],
   "source": []
  }
 ],
 "metadata": {
  "kernelspec": {
   "display_name": "Python 3",
   "language": "python",
   "name": "python3"
  },
  "language_info": {
   "codemirror_mode": {
    "name": "ipython",
    "version": 3
   },
   "file_extension": ".py",
   "mimetype": "text/x-python",
   "name": "python",
   "nbconvert_exporter": "python",
   "pygments_lexer": "ipython3",
   "version": "3.6.5"
  }
 },
 "nbformat": 4,
 "nbformat_minor": 1
}
